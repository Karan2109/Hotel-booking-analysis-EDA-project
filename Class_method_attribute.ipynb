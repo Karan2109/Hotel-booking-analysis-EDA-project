{
  "nbformat": 4,
  "nbformat_minor": 0,
  "metadata": {
    "colab": {
      "provenance": [],
      "authorship_tag": "ABX9TyPSxH2IvIzmwl3pO6EuiEe3",
      "include_colab_link": true
    },
    "kernelspec": {
      "name": "python3",
      "display_name": "Python 3"
    },
    "language_info": {
      "name": "python"
    }
  },
  "cells": [
    {
      "cell_type": "markdown",
      "metadata": {
        "id": "view-in-github",
        "colab_type": "text"
      },
      "source": [
        "<a href=\"https://colab.research.google.com/github/Karan2109/Hotel-booking-analysis-EDA-project/blob/main/Class_method_attribute.ipynb\" target=\"_parent\"><img src=\"https://colab.research.google.com/assets/colab-badge.svg\" alt=\"Open In Colab\"/></a>"
      ]
    },
    {
      "cell_type": "markdown",
      "source": [
        "##Class Program"
      ],
      "metadata": {
        "id": "_ZJ-RjgvV9Fg"
      }
    },
    {
      "cell_type": "markdown",
      "source": [
        "1. Write a Python program to import a built-in array module and display the namespace of the said module."
      ],
      "metadata": {
        "id": "cJ8ivXN6Vgfc"
      }
    },
    {
      "cell_type": "code",
      "execution_count": null,
      "metadata": {
        "colab": {
          "base_uri": "https://localhost:8080/"
        },
        "id": "G3P3OfG2rBKb",
        "outputId": "3962c627-70fd-421c-d2ff-8c4eb6c9381a"
      },
      "outputs": [
        {
          "output_type": "stream",
          "name": "stdout",
          "text": [
            "__name__\n",
            "__doc__\n",
            "__package__\n",
            "__loader__\n",
            "__spec__\n",
            "_array_reconstructor\n",
            "ArrayType\n",
            "array\n",
            "typecodes\n"
          ]
        }
      ],
      "source": [
        "import array\n",
        "for name in array.__dict__:\n",
        "    print(name)"
      ]
    },
    {
      "cell_type": "markdown",
      "source": [
        "2. Write a Python program to create an instance of a specified class and display the namespace of the said instance."
      ],
      "metadata": {
        "id": "V-wHvXmSVn6V"
      }
    },
    {
      "cell_type": "code",
      "source": [
        "class employee:\n",
        "  def __init__(self, emp_name, emp_id, emp_desig):\n",
        "    self.emp_desig = emp_desig\n",
        "    self.emp_id = emp_id\n",
        "    self.emp_name = emp_name\n",
        "\n",
        "emp = employee(\"Karan\", 101, \"Jr. Data Analyst\")\n",
        "print(emp.__dict__) # (.__dict__) is used for dictionary purpose\n"
      ],
      "metadata": {
        "colab": {
          "base_uri": "https://localhost:8080/"
        },
        "id": "oXpy_fI3WEWW",
        "outputId": "3672c572-5d4a-4892-a6f7-ad027c3248bb"
      },
      "execution_count": null,
      "outputs": [
        {
          "output_type": "stream",
          "name": "stdout",
          "text": [
            "{'emp_desig': 'Jr. Data Analyst', 'emp_id': 101, 'emp_name': 'Karan'}\n"
          ]
        }
      ]
    },
    {
      "cell_type": "markdown",
      "source": [
        "3. Define a Python function student(). Using function attributes display the names of all arguments."
      ],
      "metadata": {
        "id": "ob6C3PXRWI1C"
      }
    },
    {
      "cell_type": "code",
      "source": [
        "def student(std_name, std_id, std_class):\n",
        "  return f\"Student_Name : {std_name}\\n Student_ID : {std_id}\\n Student_class : {std_class}\"\n",
        "\n",
        "print(student(\"Karan Singh\",\"101\", \"MSC\"))"
      ],
      "metadata": {
        "colab": {
          "base_uri": "https://localhost:8080/"
        },
        "id": "npzwpozqWHfB",
        "outputId": "8102509f-9eb4-450f-c177-626110224d27"
      },
      "execution_count": null,
      "outputs": [
        {
          "output_type": "stream",
          "name": "stdout",
          "text": [
            "Student_Name : Karan Singh\n",
            " Student_ID : 101\n",
            " Student_class : MSC\n"
          ]
        }
      ]
    },
    {
      "cell_type": "markdown",
      "source": [
        "4. Write a Python function student_data () that will print the ID of a student (student_id). If the user passes an argument student_name or student_class the function will print the student name and class."
      ],
      "metadata": {
        "id": "4qLeAFqWdWk8"
      }
    },
    {
      "cell_type": "code",
      "source": [
        "def student_data(student_id, **kwargs):\n",
        "    print(f'\\nStudent ID: {student_id}')\n",
        "    if 'student_name' in kwargs:\n",
        "        print(f\"Student Name: $ {kwargs['student_name']}\")\n",
        "    \n",
        "    if 'student_name' and 'student_class' in kwargs:\n",
        "            print(f\"\\nStudent Name: $ {kwargs['student_name']}\")\n",
        "            print(f\"Student Class: $ {kwargs['student_class']}\")\n",
        "\n",
        " \n",
        "student_data(student_id='SV12', student_name='Jean Garner')\n",
        "\n",
        "student_data(student_id='SV12', student_name='Jean Garner', student_class ='V')"
      ],
      "metadata": {
        "colab": {
          "base_uri": "https://localhost:8080/"
        },
        "id": "hIaCSQVkdv5s",
        "outputId": "84baaad6-811f-4904-f3df-19591521de3d"
      },
      "execution_count": null,
      "outputs": [
        {
          "output_type": "stream",
          "name": "stdout",
          "text": [
            "\n",
            "Student ID: SV12\n",
            "Student Name: $ Jean Garner\n",
            "\n",
            "Student ID: SV12\n",
            "Student Name: $ Jean Garner\n",
            "\n",
            "Student Name: $ Jean Garner\n",
            "Student Class: $ V\n"
          ]
        }
      ]
    },
    {
      "cell_type": "markdown",
      "source": [
        "5.  Write a Python program to create two empty classes, Student and Marks. Now create some instances and check whether they are instances of the said classes or not. Also, check whether the said classes are subclasses of the built-in object class or not."
      ],
      "metadata": {
        "id": "AfkVOuDld50M"
      }
    },
    {
      "cell_type": "code",
      "source": [
        "class student:\n",
        "  pass\n",
        "class marks:\n",
        "  pass\n",
        "\n",
        "student1 = student()\n",
        "marks1 = marks()\n",
        "\n",
        "print(isinstance(student1, student))\n",
        "print(isinstance(marks1, student))\n",
        "print(isinstance(marks1, marks))\n",
        "print(isinstance(student1, marks))\n",
        "\n",
        "print(\"\\nCheck whether the said classes are subclasses of the built-in object class or not.\\n\")\n",
        "\n",
        "print(issubclass(student, object))\n",
        "print(issubclass(marks, object))\n",
        "\n",
        "\n"
      ],
      "metadata": {
        "colab": {
          "base_uri": "https://localhost:8080/"
        },
        "id": "PuLbjVUTeZcF",
        "outputId": "1a3f4183-f114-41d2-e1dc-b97c9ec7660f"
      },
      "execution_count": null,
      "outputs": [
        {
          "output_type": "stream",
          "name": "stdout",
          "text": [
            "True\n",
            "False\n",
            "True\n",
            "False\n",
            "\n",
            "Check whether the said classes are subclasses of the built-in object class or not.\n",
            "\n",
            "True\n",
            "True\n"
          ]
        }
      ]
    },
    {
      "cell_type": "markdown",
      "source": [
        "6. Write a Python class named Student with two attributes: student_id, student_name. Add a new attribute: student_class. Create a function to display all attributes and their values in the Student class."
      ],
      "metadata": {
        "id": "YFKKChTxhKJj"
      }
    },
    {
      "cell_type": "code",
      "source": [
        "class Student:\n",
        "  std_id = 101\n",
        "  std_name = \"Karan Singh\"\n",
        "\n",
        "  def display():\n",
        "    print(f'Student id: {Student.std_id}\\nStudent Name: {Student.std_name}')\n",
        "print(\"Original attributes and their values of the Student class:\")\n",
        "Student.display()"
      ],
      "metadata": {
        "colab": {
          "base_uri": "https://localhost:8080/"
        },
        "id": "g3XeYPgthb77",
        "outputId": "ef1d6ead-8c52-40b7-e326-6ed0787fbd7e"
      },
      "execution_count": null,
      "outputs": [
        {
          "output_type": "stream",
          "name": "stdout",
          "text": [
            "Original attributes and their values of the Student class:\n",
            "Student id: 101\n",
            "Student Name: Karan Singh\n"
          ]
        }
      ]
    },
    {
      "cell_type": "markdown",
      "source": [
        "7. Write a Python class named Student with two instances student1, student2 and assign values to the instances' attributes. Print all the attributes of the student1, student2 instances with their values in the given format."
      ],
      "metadata": {
        "id": "C9-pFCqgkH_v"
      }
    },
    {
      "cell_type": "code",
      "source": [
        "class Student:\n",
        "    school = 'Forward Thinking'\n",
        "    address = 'Mumbai, India' \n",
        "student1 = Student()\n",
        "student2 = Student() \n",
        "student1.student_id = \"V12\"\n",
        "student1.student_name = \"Natasha\"\n",
        "student2.student_id = \"V12\"\n",
        "student2.marks_language = 85\n",
        "student2.marks_science = 93\n",
        "student2.marks_math = 95\n",
        "\n",
        "students = [student1, student2]\n",
        "for student in students:\n",
        "    print('\\n')\n",
        "    for attr in student.__dict__:\n",
        "        print(f'{attr} -> {getattr(student, attr)}')"
      ],
      "metadata": {
        "colab": {
          "base_uri": "https://localhost:8080/"
        },
        "id": "QNqemF7VkIiz",
        "outputId": "606975c1-30a4-4fc3-bf3a-06a302515a40"
      },
      "execution_count": null,
      "outputs": [
        {
          "output_type": "stream",
          "name": "stdout",
          "text": [
            "\n",
            "\n",
            "student_id V12\n",
            "student_name Natasha\n",
            "\n",
            "\n",
            "student_id V12\n",
            "marks_language 85\n",
            "marks_science 93\n",
            "marks_math 95\n"
          ]
        }
      ]
    },
    {
      "cell_type": "markdown",
      "source": [
        "8. Write a Python class to convert an integer to a Roman numeral."
      ],
      "metadata": {
        "id": "POOh5q59l3HF"
      }
    },
    {
      "cell_type": "code",
      "source": [
        "class roman:\n",
        "  def int_to_rom(self, num):\n",
        "    self.num = num\n",
        "    #value = [1, 4, 5, 9, 10, 40, 50, 90, 100, 400, 500, 900, 1000]\n",
        "    #symbol = ['I','IV','V','IX','X','XL','L','XC','C','CD','D','CM','M']\n",
        "    value = [1000, 900, 500, 400,100, 90, 50, 40,10, 9, 5, 4,1]\n",
        "    symbol = [\"M\", \"CM\", \"D\", \"CD\",\"C\", \"XC\", \"L\", \"XL\",\"X\", \"IX\", \"V\", \"IV\",\"I\"]\n",
        "    roman_num = ''\n",
        "    i = 0\n",
        "    while num > 0:\n",
        "      for _ in range(num // value[i]):\n",
        "        roman_num += symbol[i]\n",
        "        num -= value[i]\n",
        "      i += 1\n",
        "    return roman_num\n",
        "\n",
        "print(roman().int_to_rom(1))\n",
        "print(roman().int_to_rom(4000))\n",
        "\n"
      ],
      "metadata": {
        "colab": {
          "base_uri": "https://localhost:8080/"
        },
        "id": "wSkhwkOGl67t",
        "outputId": "3e4982e0-9df5-44b8-a355-206a90eaa205"
      },
      "execution_count": 8,
      "outputs": [
        {
          "output_type": "stream",
          "name": "stdout",
          "text": [
            "I\n",
            "MMMM\n"
          ]
        }
      ]
    },
    {
      "cell_type": "markdown",
      "source": [
        "9. Write a Python class to convert a Roman numeral to an integer."
      ],
      "metadata": {
        "id": "79D250r1p0pf"
      }
    },
    {
      "cell_type": "code",
      "source": [
        "class py_solution:\n",
        "    def roman_to_int(self, s):\n",
        "        rom_val = {'I': 1, 'V': 5, 'X': 10, 'L': 50, 'C': 100, 'D': 500, 'M': 1000}\n",
        "        int_val = 0\n",
        "        for i in range(len(s)):\n",
        "            if i > 0 and rom_val[s[i]] > rom_val[s[i - 1]]:\n",
        "                int_val += rom_val[s[i]] - 2 * rom_val[s[i - 1]]\n",
        "            else:\n",
        "                int_val += rom_val[s[i]]\n",
        "        return int_val\n",
        "\n",
        "print(py_solution().roman_to_int('MMMCMLXXXVI'))\n",
        "print(py_solution().roman_to_int('MMMM'))\n",
        "print(py_solution().roman_to_int('C'))"
      ],
      "metadata": {
        "colab": {
          "base_uri": "https://localhost:8080/"
        },
        "id": "FV6Sboymp3A8",
        "outputId": "558ab9a0-d0a5-4f3f-da0f-ca96def06dbd"
      },
      "execution_count": 9,
      "outputs": [
        {
          "output_type": "stream",
          "name": "stdout",
          "text": [
            "3986\n",
            "4000\n",
            "100\n"
          ]
        }
      ]
    }
  ]
}