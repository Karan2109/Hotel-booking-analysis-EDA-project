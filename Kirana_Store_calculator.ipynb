{
  "nbformat": 4,
  "nbformat_minor": 0,
  "metadata": {
    "colab": {
      "provenance": [],
      "authorship_tag": "ABX9TyMHmrhcOuCFgLEhEoykUiJk",
      "include_colab_link": true
    },
    "kernelspec": {
      "name": "python3",
      "display_name": "Python 3"
    },
    "language_info": {
      "name": "python"
    }
  },
  "cells": [
    {
      "cell_type": "markdown",
      "metadata": {
        "id": "view-in-github",
        "colab_type": "text"
      },
      "source": [
        "<a href=\"https://colab.research.google.com/github/Karan2109/Hotel-booking-analysis-EDA-project/blob/main/Kirana_Store_calculator.ipynb\" target=\"_parent\"><img src=\"https://colab.research.google.com/assets/colab-badge.svg\" alt=\"Open In Colab\"/></a>"
      ]
    },
    {
      "cell_type": "code",
      "execution_count": null,
      "metadata": {
        "id": "mPUL7xdJeZVS"
      },
      "outputs": [],
      "source": [
        "# Adding num with num will get error so we write (Sum = 0) at starting"
      ]
    },
    {
      "cell_type": "code",
      "source": [
        "sum = 0\n",
        "while(True):\n",
        "  user_input = input(\"Enter the Item price or 'q' to quit : \")\n",
        "  if (user_input != 'q'): \n",
        "    sum = sum + int(user_input)\n",
        "    print(f\"Order total so far : {sum}\")\n",
        "  else:\n",
        "    print(f'Your total bill amount : {sum}. \\nThanks for shopping with us :)')\n",
        "    break"
      ],
      "metadata": {
        "colab": {
          "base_uri": "https://localhost:8080/"
        },
        "id": "uU55TgEZhW6H",
        "outputId": "b21084ac-b1aa-4c59-f4c3-981d441a6d25"
      },
      "execution_count": 10,
      "outputs": [
        {
          "output_type": "stream",
          "name": "stdout",
          "text": [
            "Enter the Item price or 'q' to quit : 2\n",
            "Order total so far : 2\n",
            "Enter the Item price or 'q' to quit : 2\n",
            "Order total so far : 4\n",
            "Enter the Item price or 'q' to quit : q\n",
            "Your total bill amount : 4. \n",
            "Thanks for shopping with us :)\n"
          ]
        }
      ]
    }
  ]
}