{
  "nbformat": 4,
  "nbformat_minor": 0,
  "metadata": {
    "colab": {
      "provenance": [],
      "authorship_tag": "ABX9TyM2rzv0PYRzDolcLwHn2wAC",
      "include_colab_link": true
    },
    "kernelspec": {
      "name": "python3",
      "display_name": "Python 3"
    },
    "language_info": {
      "name": "python"
    }
  },
  "cells": [
    {
      "cell_type": "markdown",
      "metadata": {
        "id": "view-in-github",
        "colab_type": "text"
      },
      "source": [
        "<a href=\"https://colab.research.google.com/github/Karan2109/Hotel-booking-analysis-EDA-project/blob/main/Practice_for_loop.ipynb\" target=\"_parent\"><img src=\"https://colab.research.google.com/assets/colab-badge.svg\" alt=\"Open In Colab\"/></a>"
      ]
    },
    {
      "cell_type": "markdown",
      "source": [
        "Exercise 1: Print First 10 natural numbers using while loop"
      ],
      "metadata": {
        "id": "coZ1knYSjOFP"
      }
    },
    {
      "cell_type": "code",
      "source": [
        "i = 0\n",
        "while i < 10:\n",
        "  i = i+1\n",
        "  print(\"Natural no : \",i)"
      ],
      "metadata": {
        "colab": {
          "base_uri": "https://localhost:8080/"
        },
        "id": "V_JyTEnYj5xN",
        "outputId": "b05bb66e-f982-4197-df0b-7761353c1311"
      },
      "execution_count": 6,
      "outputs": [
        {
          "output_type": "stream",
          "name": "stdout",
          "text": [
            "Natural no :  1\n",
            "Natural no :  2\n",
            "Natural no :  3\n",
            "Natural no :  4\n",
            "Natural no :  5\n",
            "Natural no :  6\n",
            "Natural no :  7\n",
            "Natural no :  8\n",
            "Natural no :  9\n",
            "Natural no :  10\n"
          ]
        }
      ]
    },
    {
      "cell_type": "markdown",
      "source": [
        "Exercise 2 : Print the pattern"
      ],
      "metadata": {
        "id": "o_r9a634kmv6"
      }
    },
    {
      "cell_type": "code",
      "source": [
        "row = 5\n",
        "for i in range(1 , row + 1, 1):\n",
        "  for j in range(1 , i + 1):\n",
        "    print(j , end = \" \")\n",
        "  print(\"\\n \")"
      ],
      "metadata": {
        "colab": {
          "base_uri": "https://localhost:8080/"
        },
        "id": "YwIo8CtVk4pF",
        "outputId": "6d9b6054-2336-4d93-c62f-7551e6f135f5"
      },
      "execution_count": 18,
      "outputs": [
        {
          "output_type": "stream",
          "name": "stdout",
          "text": [
            "1 \n",
            " \n",
            "1 2 \n",
            " \n",
            "1 2 3 \n",
            " \n",
            "1 2 3 4 \n",
            " \n",
            "1 2 3 4 5 \n",
            " \n"
          ]
        }
      ]
    },
    {
      "cell_type": "markdown",
      "source": [
        "Exercise 3: Calculate the sum of all numbers from 1 to a given number"
      ],
      "metadata": {
        "id": "SaTynmkepwWb"
      }
    },
    {
      "cell_type": "code",
      "source": [
        "s = 0\n",
        "num = int(input(\"Enter Number :\"))\n",
        "for i in range(1 , num+1 , 1):\n",
        "  s += i\n",
        "print(\"The sum is \",s)"
      ],
      "metadata": {
        "colab": {
          "base_uri": "https://localhost:8080/"
        },
        "id": "7erW0o-OpyAh",
        "outputId": "93b96734-cd03-45aa-e2e7-bea5b94bb367"
      },
      "execution_count": 44,
      "outputs": [
        {
          "output_type": "stream",
          "name": "stdout",
          "text": [
            "Enter Number :100\n",
            "The sum is  5050\n"
          ]
        }
      ]
    },
    {
      "cell_type": "markdown",
      "source": [
        "Exercise 4: Write a program to print multiplication table of a given number"
      ],
      "metadata": {
        "id": "oH8BZA1ytyLK"
      }
    },
    {
      "cell_type": "code",
      "source": [
        "n = 11\n",
        "for i in range(1 , 11):\n",
        "  y = n*i\n",
        "  print(n,\"x\",i,\"=\",y)"
      ],
      "metadata": {
        "colab": {
          "base_uri": "https://localhost:8080/"
        },
        "id": "lca1YGDwtxm5",
        "outputId": "bcb347ce-28bf-42e5-c31d-116b6bd87abc"
      },
      "execution_count": 38,
      "outputs": [
        {
          "output_type": "stream",
          "name": "stdout",
          "text": [
            "11 x 1 = 11\n",
            "11 x 2 = 22\n",
            "11 x 3 = 33\n",
            "11 x 4 = 44\n",
            "11 x 5 = 55\n",
            "11 x 6 = 66\n",
            "11 x 7 = 77\n",
            "11 x 8 = 88\n",
            "11 x 9 = 99\n",
            "11 x 10 = 110\n"
          ]
        }
      ]
    },
    {
      "cell_type": "markdown",
      "source": [
        "Exercise 5: Display numbers from a list using loop\n"
      ],
      "metadata": {
        "id": "k_HKLJEnwN1S"
      }
    },
    {
      "cell_type": "code",
      "source": [
        "numbers = [12, 75, 150, 180, 145, 525, 50]\n",
        "for i in numbers:\n",
        "  if i > 500:\n",
        "    break\n",
        "  elif i > 150:\n",
        "    continue \n",
        "  elif i%5 == 0:\n",
        "    print(i)\n",
        "  "
      ],
      "metadata": {
        "colab": {
          "base_uri": "https://localhost:8080/"
        },
        "id": "yvhhBHYXwV1l",
        "outputId": "9d486d3e-0191-4e31-ca79-26eac7389aeb"
      },
      "execution_count": 43,
      "outputs": [
        {
          "output_type": "stream",
          "name": "stdout",
          "text": [
            "75\n",
            "150\n",
            "145\n"
          ]
        }
      ]
    },
    {
      "cell_type": "markdown",
      "source": [
        "Exercise 6: Count the total number of digits in a number"
      ],
      "metadata": {
        "id": "_qAFwqC01AgQ"
      }
    },
    {
      "cell_type": "code",
      "source": [
        "num = int(input(\"Enter number = \"))\n",
        "count = 0\n",
        "while num != 0:\n",
        "  num = num//10\n",
        "  count = count + 1\n",
        "print(\"Total number is \",count)"
      ],
      "metadata": {
        "colab": {
          "base_uri": "https://localhost:8080/"
        },
        "id": "an9YiK171MFH",
        "outputId": "7b59f531-b06e-444d-9ca6-5ba445fe15f6"
      },
      "execution_count": 47,
      "outputs": [
        {
          "output_type": "stream",
          "name": "stdout",
          "text": [
            "Enter number = 5235202583582\n",
            "Total number is  13\n"
          ]
        }
      ]
    },
    {
      "cell_type": "markdown",
      "source": [
        "Exercise 7: Print the following pattern"
      ],
      "metadata": {
        "id": "1bRsUs0E4G8C"
      }
    },
    {
      "cell_type": "code",
      "source": [
        "n = 5\n",
        "k = 5\n",
        "for i in range(0,n+1):\n",
        "    for j in range(k-i,0,-1):\n",
        "        print(j,end=' ')\n",
        "    print('\\n')"
      ],
      "metadata": {
        "colab": {
          "base_uri": "https://localhost:8080/"
        },
        "id": "ZYoEyI224SCC",
        "outputId": "510f617f-ba4e-4108-b2a0-c92acfc0e756"
      },
      "execution_count": 60,
      "outputs": [
        {
          "output_type": "stream",
          "name": "stdout",
          "text": [
            "5 4 3 2 1 \n",
            "\n",
            "4 3 2 1 \n",
            "\n",
            "3 2 1 \n",
            "\n",
            "2 1 \n",
            "\n",
            "1 \n",
            "\n",
            "\n",
            "\n"
          ]
        }
      ]
    },
    {
      "cell_type": "markdown",
      "source": [
        "\n",
        "Exercise 8: Print list in reverse order using a loop"
      ],
      "metadata": {
        "id": "MSS0TJFX9z4O"
      }
    },
    {
      "cell_type": "code",
      "source": [
        "list1 = [10, 20, 30, 40, 50]\n",
        "list2 = reversed(list1)\n",
        "\n",
        "for i in list2:\n",
        "  print(i)"
      ],
      "metadata": {
        "colab": {
          "base_uri": "https://localhost:8080/"
        },
        "id": "0ujFtQff9_O9",
        "outputId": "048f0588-c8e5-4c46-d624-9b87e36312fb"
      },
      "execution_count": 62,
      "outputs": [
        {
          "output_type": "stream",
          "name": "stdout",
          "text": [
            "50\n",
            "40\n",
            "30\n",
            "20\n",
            "10\n"
          ]
        }
      ]
    },
    {
      "cell_type": "markdown",
      "source": [
        " Exercise 9 :Display numbers from -10 to -1 using for loop"
      ],
      "metadata": {
        "id": "Xehk82G8_wbN"
      }
    },
    {
      "cell_type": "code",
      "source": [
        "for i in range(-10,0,1):\n",
        "  print(i)"
      ],
      "metadata": {
        "colab": {
          "base_uri": "https://localhost:8080/"
        },
        "id": "3oabjuHG_3yJ",
        "outputId": "4aa88c4c-14e3-4403-adad-a2466ddc243e"
      },
      "execution_count": 64,
      "outputs": [
        {
          "output_type": "stream",
          "name": "stdout",
          "text": [
            "-10\n",
            "-9\n",
            "-8\n",
            "-7\n",
            "-6\n",
            "-5\n",
            "-4\n",
            "-3\n",
            "-2\n",
            "-1\n"
          ]
        }
      ]
    },
    {
      "cell_type": "markdown",
      "source": [
        "Exercise 10: Use else block to display a message “Done” after successful execution of for loop"
      ],
      "metadata": {
        "id": "IG6jRveKAHcw"
      }
    },
    {
      "cell_type": "code",
      "source": [
        "for i in range(5):\n",
        "    print(i)\n",
        "else:\n",
        "    print(\"Done!\")"
      ],
      "metadata": {
        "colab": {
          "base_uri": "https://localhost:8080/"
        },
        "id": "CLYjtv_sAj0N",
        "outputId": "a6fea11f-ce78-431d-be17-9bc99ed9fca5"
      },
      "execution_count": 65,
      "outputs": [
        {
          "output_type": "stream",
          "name": "stdout",
          "text": [
            "0\n",
            "1\n",
            "2\n",
            "3\n",
            "4\n",
            "Done!\n"
          ]
        }
      ]
    }
  ]
}