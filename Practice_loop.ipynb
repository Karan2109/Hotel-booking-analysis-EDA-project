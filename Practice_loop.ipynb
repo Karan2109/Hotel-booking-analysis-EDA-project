{
  "nbformat": 4,
  "nbformat_minor": 0,
  "metadata": {
    "colab": {
      "provenance": [],
      "authorship_tag": "ABX9TyOgj+nrhCMhwnujicpF8FW9",
      "include_colab_link": true
    },
    "kernelspec": {
      "name": "python3",
      "display_name": "Python 3"
    },
    "language_info": {
      "name": "python"
    }
  },
  "cells": [
    {
      "cell_type": "markdown",
      "metadata": {
        "id": "view-in-github",
        "colab_type": "text"
      },
      "source": [
        "<a href=\"https://colab.research.google.com/github/Karan2109/Hotel-booking-analysis-EDA-project/blob/main/Practice_loop.ipynb\" target=\"_parent\"><img src=\"https://colab.research.google.com/assets/colab-badge.svg\" alt=\"Open In Colab\"/></a>"
      ]
    },
    {
      "cell_type": "markdown",
      "source": [
        "Exercise 1: Print First 10 natural numbers using while loop"
      ],
      "metadata": {
        "id": "coZ1knYSjOFP"
      }
    },
    {
      "cell_type": "code",
      "source": [
        "i = 0\n",
        "while i < 10:\n",
        "  i = i+1\n",
        "  print(\"Natural no : \",i)"
      ],
      "metadata": {
        "colab": {
          "base_uri": "https://localhost:8080/"
        },
        "id": "V_JyTEnYj5xN",
        "outputId": "b05bb66e-f982-4197-df0b-7761353c1311"
      },
      "execution_count": 6,
      "outputs": [
        {
          "output_type": "stream",
          "name": "stdout",
          "text": [
            "Natural no :  1\n",
            "Natural no :  2\n",
            "Natural no :  3\n",
            "Natural no :  4\n",
            "Natural no :  5\n",
            "Natural no :  6\n",
            "Natural no :  7\n",
            "Natural no :  8\n",
            "Natural no :  9\n",
            "Natural no :  10\n"
          ]
        }
      ]
    },
    {
      "cell_type": "markdown",
      "source": [
        "Exercise 2 : Print the pattern"
      ],
      "metadata": {
        "id": "o_r9a634kmv6"
      }
    },
    {
      "cell_type": "code",
      "source": [
        "row = 3\n",
        "for i in range(1 , row + 1, 1):\n",
        "  for j in range(1 , i + 1):\n",
        "    print(j , end = \" \")\n",
        "  print(\"\\n \")"
      ],
      "metadata": {
        "colab": {
          "base_uri": "https://localhost:8080/"
        },
        "id": "YwIo8CtVk4pF",
        "outputId": "baa2442e-0392-4648-b714-1ef962bbae32"
      },
      "execution_count": 4,
      "outputs": [
        {
          "output_type": "stream",
          "name": "stdout",
          "text": [
            "1 \n",
            " \n",
            "1 2 \n",
            " \n",
            "1 2 3 \n",
            " \n"
          ]
        }
      ]
    },
    {
      "cell_type": "markdown",
      "source": [
        "Exercise 3: Calculate the sum of all numbers from 1 to a given number"
      ],
      "metadata": {
        "id": "SaTynmkepwWb"
      }
    },
    {
      "cell_type": "code",
      "source": [
        "s = 0\n",
        "num = int(input(\"Enter Number :\"))\n",
        "for i in range(1 , num+1 , 1):\n",
        "  s += i\n",
        "print(\"The sum is \",s)"
      ],
      "metadata": {
        "colab": {
          "base_uri": "https://localhost:8080/"
        },
        "id": "7erW0o-OpyAh",
        "outputId": "93b96734-cd03-45aa-e2e7-bea5b94bb367"
      },
      "execution_count": 44,
      "outputs": [
        {
          "output_type": "stream",
          "name": "stdout",
          "text": [
            "Enter Number :100\n",
            "The sum is  5050\n"
          ]
        }
      ]
    },
    {
      "cell_type": "markdown",
      "source": [
        "Exercise 4: Write a program to print multiplication table of a given number"
      ],
      "metadata": {
        "id": "oH8BZA1ytyLK"
      }
    },
    {
      "cell_type": "code",
      "source": [
        "n = int(input(\"Enter table no : \"))\n",
        "for i in range(1 , 11):\n",
        "  y = n*i\n",
        "  print(n,\"x\",i,\"=\",y)"
      ],
      "metadata": {
        "colab": {
          "base_uri": "https://localhost:8080/"
        },
        "id": "lca1YGDwtxm5",
        "outputId": "f0a37b7f-933e-4658-cff5-f9bfa3b63ab7"
      },
      "execution_count": 6,
      "outputs": [
        {
          "output_type": "stream",
          "name": "stdout",
          "text": [
            "Enter table no : 8\n",
            "8 x 1 = 8\n",
            "8 x 2 = 16\n",
            "8 x 3 = 24\n",
            "8 x 4 = 32\n",
            "8 x 5 = 40\n",
            "8 x 6 = 48\n",
            "8 x 7 = 56\n",
            "8 x 8 = 64\n",
            "8 x 9 = 72\n",
            "8 x 10 = 80\n"
          ]
        }
      ]
    },
    {
      "cell_type": "markdown",
      "source": [
        "Exercise 5: Display numbers from a list using loop\n"
      ],
      "metadata": {
        "id": "k_HKLJEnwN1S"
      }
    },
    {
      "cell_type": "code",
      "source": [
        "numbers = [12, 75, 150, 180, 145, 525, 50]\n",
        "for i in numbers:\n",
        "  if i > 500:\n",
        "    break\n",
        "  elif i > 150:\n",
        "    continue \n",
        "  elif i%5 == 0:\n",
        "    print(i)\n",
        "  "
      ],
      "metadata": {
        "colab": {
          "base_uri": "https://localhost:8080/"
        },
        "id": "yvhhBHYXwV1l",
        "outputId": "9d486d3e-0191-4e31-ca79-26eac7389aeb"
      },
      "execution_count": 43,
      "outputs": [
        {
          "output_type": "stream",
          "name": "stdout",
          "text": [
            "75\n",
            "150\n",
            "145\n"
          ]
        }
      ]
    },
    {
      "cell_type": "markdown",
      "source": [
        "Exercise 6: Count the total number of digits in a number"
      ],
      "metadata": {
        "id": "_qAFwqC01AgQ"
      }
    },
    {
      "cell_type": "code",
      "source": [
        "num = int(input(\"Enter number = \"))\n",
        "count = 0\n",
        "while num != 0:\n",
        "  num = num//10\n",
        "  count = count + 1\n",
        "print(\"Total number is \",count)"
      ],
      "metadata": {
        "colab": {
          "base_uri": "https://localhost:8080/"
        },
        "id": "an9YiK171MFH",
        "outputId": "7b59f531-b06e-444d-9ca6-5ba445fe15f6"
      },
      "execution_count": 47,
      "outputs": [
        {
          "output_type": "stream",
          "name": "stdout",
          "text": [
            "Enter number = 5235202583582\n",
            "Total number is  13\n"
          ]
        }
      ]
    },
    {
      "cell_type": "markdown",
      "source": [
        "Exercise 7: Print the following pattern"
      ],
      "metadata": {
        "id": "1bRsUs0E4G8C"
      }
    },
    {
      "cell_type": "code",
      "source": [
        "n = 5\n",
        "k = 5\n",
        "for i in range(0,n+1):\n",
        "    for j in range(k-i,0,-1):\n",
        "        print(j,end=' ')\n",
        "    print('\\n')"
      ],
      "metadata": {
        "colab": {
          "base_uri": "https://localhost:8080/"
        },
        "id": "ZYoEyI224SCC",
        "outputId": "510f617f-ba4e-4108-b2a0-c92acfc0e756"
      },
      "execution_count": 60,
      "outputs": [
        {
          "output_type": "stream",
          "name": "stdout",
          "text": [
            "5 4 3 2 1 \n",
            "\n",
            "4 3 2 1 \n",
            "\n",
            "3 2 1 \n",
            "\n",
            "2 1 \n",
            "\n",
            "1 \n",
            "\n",
            "\n",
            "\n"
          ]
        }
      ]
    },
    {
      "cell_type": "markdown",
      "source": [
        "\n",
        "Exercise 8: Print list in reverse order using a loop"
      ],
      "metadata": {
        "id": "MSS0TJFX9z4O"
      }
    },
    {
      "cell_type": "code",
      "source": [
        "list1 = [10, 20, 30, 40, 50]\n",
        "list2 = reversed(list1)\n",
        "\n",
        "for i in list2:\n",
        "  print(i)"
      ],
      "metadata": {
        "colab": {
          "base_uri": "https://localhost:8080/"
        },
        "id": "0ujFtQff9_O9",
        "outputId": "048f0588-c8e5-4c46-d624-9b87e36312fb"
      },
      "execution_count": 62,
      "outputs": [
        {
          "output_type": "stream",
          "name": "stdout",
          "text": [
            "50\n",
            "40\n",
            "30\n",
            "20\n",
            "10\n"
          ]
        }
      ]
    },
    {
      "cell_type": "markdown",
      "source": [
        " Exercise 9 :Display numbers from -10 to -1 using for loop"
      ],
      "metadata": {
        "id": "Xehk82G8_wbN"
      }
    },
    {
      "cell_type": "code",
      "source": [
        "for i in range(-10,0,1):\n",
        "  print(i)"
      ],
      "metadata": {
        "colab": {
          "base_uri": "https://localhost:8080/"
        },
        "id": "3oabjuHG_3yJ",
        "outputId": "4aa88c4c-14e3-4403-adad-a2466ddc243e"
      },
      "execution_count": 64,
      "outputs": [
        {
          "output_type": "stream",
          "name": "stdout",
          "text": [
            "-10\n",
            "-9\n",
            "-8\n",
            "-7\n",
            "-6\n",
            "-5\n",
            "-4\n",
            "-3\n",
            "-2\n",
            "-1\n"
          ]
        }
      ]
    },
    {
      "cell_type": "markdown",
      "source": [
        "Exercise 10: Use else block to display a message “Done” after successful execution of for loop"
      ],
      "metadata": {
        "id": "IG6jRveKAHcw"
      }
    },
    {
      "cell_type": "code",
      "source": [
        "for i in range(5):\n",
        "    print(i)\n",
        "else:\n",
        "    print(\"Done!\")"
      ],
      "metadata": {
        "colab": {
          "base_uri": "https://localhost:8080/"
        },
        "id": "CLYjtv_sAj0N",
        "outputId": "a6fea11f-ce78-431d-be17-9bc99ed9fca5"
      },
      "execution_count": 65,
      "outputs": [
        {
          "output_type": "stream",
          "name": "stdout",
          "text": [
            "0\n",
            "1\n",
            "2\n",
            "3\n",
            "4\n",
            "Done!\n"
          ]
        }
      ]
    },
    {
      "cell_type": "markdown",
      "source": [
        "Exercise 11: Write a program to display all prime numbers within a range"
      ],
      "metadata": {
        "id": "CZL572IcBA1D"
      }
    },
    {
      "cell_type": "code",
      "source": [
        "s = 25\n",
        "e = 50\n",
        "for num in range(s ,e+1):\n",
        "  if num > 1:\n",
        "    for i in range(2, num):\n",
        "      if num%i == 0:\n",
        "        break\n",
        "    else:\n",
        "      print(num)\n"
      ],
      "metadata": {
        "colab": {
          "base_uri": "https://localhost:8080/"
        },
        "id": "Xko7_kgJBGpu",
        "outputId": "0cb79d26-e62f-4b07-fefc-2ebde796b556"
      },
      "execution_count": 14,
      "outputs": [
        {
          "output_type": "stream",
          "name": "stdout",
          "text": [
            "29\n",
            "31\n",
            "37\n",
            "41\n",
            "43\n",
            "47\n"
          ]
        }
      ]
    },
    {
      "cell_type": "markdown",
      "source": [
        "Exercise 12: Display Fibonacci series up to 10 terms"
      ],
      "metadata": {
        "id": "xZAvFcACsClg"
      }
    },
    {
      "cell_type": "code",
      "source": [
        "num1 = 0\n",
        "num2 = 1\n",
        "\n",
        "for i in range(10):\n",
        "  print(num1,end=\" \")\n",
        "  res = num1+num2\n",
        "\n",
        "  num1 = num2\n",
        "  num2 = res"
      ],
      "metadata": {
        "colab": {
          "base_uri": "https://localhost:8080/"
        },
        "id": "Kwg74ed5sEIM",
        "outputId": "b43349e1-eb34-41ce-8384-70f8325a468a"
      },
      "execution_count": 22,
      "outputs": [
        {
          "output_type": "stream",
          "name": "stdout",
          "text": [
            "0 1 1 2 3 5 8 13 21 34 89\n"
          ]
        }
      ]
    },
    {
      "cell_type": "markdown",
      "source": [
        "Exercise 13: Find the factorial of a given number"
      ],
      "metadata": {
        "id": "bfEzaF3Tt9YX"
      }
    },
    {
      "cell_type": "code",
      "source": [
        "factorial = 1\n",
        "n = int(input(\"Enter Factorial No : \"))\n",
        "\n",
        "for i in range(1 ,n+1):\n",
        "  factorial = factorial * i\n",
        "print(factorial)\n",
        "\n"
      ],
      "metadata": {
        "colab": {
          "base_uri": "https://localhost:8080/"
        },
        "id": "1tP0U0Vbt-iB",
        "outputId": "38c5cad9-b502-4cbe-b30f-9f8ce8e1586f"
      },
      "execution_count": 28,
      "outputs": [
        {
          "output_type": "stream",
          "name": "stdout",
          "text": [
            "Enter Factorial No : 0\n",
            "1\n"
          ]
        }
      ]
    },
    {
      "cell_type": "markdown",
      "source": [
        "Exercise 14: Reverse a given integer number"
      ],
      "metadata": {
        "id": "9mAqVRUovsvW"
      }
    },
    {
      "cell_type": "code",
      "source": [
        "num = 123456\n",
        "reversed_number = 0\n",
        "\n",
        "while num > 0:\n",
        "  reminder = num%10\n",
        "  reversed_number = (reversed_number * 10) + reminder\n",
        "  num = num // 10\n",
        "print(\"Reversed Number\", reversed_number)"
      ],
      "metadata": {
        "colab": {
          "base_uri": "https://localhost:8080/"
        },
        "id": "i_FnXFoKwQQW",
        "outputId": "2b424474-466c-401c-e407-31ba77c26e61"
      },
      "execution_count": 34,
      "outputs": [
        {
          "output_type": "stream",
          "name": "stdout",
          "text": [
            "Reversed Number 654321\n"
          ]
        }
      ]
    },
    {
      "cell_type": "markdown",
      "source": [
        "Exercise 15: Use a loop to display elements from a given list present at odd index positions"
      ],
      "metadata": {
        "id": "YgiztJJcys2F"
      }
    },
    {
      "cell_type": "code",
      "source": [
        "my_list = [10, 20, 30, 40, 50, 60, 70, 80, 90, 100]\n",
        "\n",
        "for i in my_list[1::2]:\n",
        "    print(i, end=\" \")"
      ],
      "metadata": {
        "colab": {
          "base_uri": "https://localhost:8080/"
        },
        "id": "MtdwRhi9xJ8E",
        "outputId": "5f2946fb-06cc-4f1f-e0ee-1ff3358f8540"
      },
      "execution_count": 38,
      "outputs": [
        {
          "output_type": "stream",
          "name": "stdout",
          "text": [
            "20 40 60 80 100 "
          ]
        }
      ]
    },
    {
      "cell_type": "markdown",
      "source": [
        "Exercise 16: Calculate the cube of all numbers from 1 to a given number"
      ],
      "metadata": {
        "id": "ffUM08u_zxM0"
      }
    },
    {
      "cell_type": "code",
      "source": [
        "num = 3\n",
        "for i in range(1 ,num+1):\n",
        "  c = i*i*i\n",
        "  print(\"The cube of\",i,\"is\",c)"
      ],
      "metadata": {
        "colab": {
          "base_uri": "https://localhost:8080/"
        },
        "id": "RjAD3pnnz_7d",
        "outputId": "56c08bc4-c942-4436-b276-a5d4ea9e221b"
      },
      "execution_count": 46,
      "outputs": [
        {
          "output_type": "stream",
          "name": "stdout",
          "text": [
            "The cube of 1 is 1\n",
            "The cube of 2 is 8\n",
            "The cube of 3 is 27\n"
          ]
        }
      ]
    },
    {
      "cell_type": "markdown",
      "source": [
        "Exercise 17: Find the sum of the series upto n terms"
      ],
      "metadata": {
        "id": "a-YM3Y6x1QXc"
      }
    },
    {
      "cell_type": "code",
      "source": [
        "n = 5\n",
        "start = 2\n",
        "sum_seq = 0\n",
        "\n",
        "for i in range(0 ,n):\n",
        "  print(start, end = \"+\")\n",
        "  sum_seq += start\n",
        "  start = start * 10 + 2\n",
        "print(\"\\n\",sum_seq)"
      ],
      "metadata": {
        "colab": {
          "base_uri": "https://localhost:8080/"
        },
        "id": "xiu62XY-1Wy2",
        "outputId": "dcd19339-5927-48c5-dadf-090f59fb80b3"
      },
      "execution_count": 52,
      "outputs": [
        {
          "output_type": "stream",
          "name": "stdout",
          "text": [
            "2+22+222+2222+22222+\n",
            " 24690\n"
          ]
        }
      ]
    },
    {
      "cell_type": "code",
      "source": [],
      "metadata": {
        "id": "2clc2ueg2tSf"
      },
      "execution_count": null,
      "outputs": []
    }
  ]
}