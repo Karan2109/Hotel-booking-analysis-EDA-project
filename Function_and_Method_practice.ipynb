{
  "nbformat": 4,
  "nbformat_minor": 0,
  "metadata": {
    "colab": {
      "provenance": [],
      "authorship_tag": "ABX9TyM0PnrbWt2k+nEi/JmUT2Tm",
      "include_colab_link": true
    },
    "kernelspec": {
      "name": "python3",
      "display_name": "Python 3"
    },
    "language_info": {
      "name": "python"
    }
  },
  "cells": [
    {
      "cell_type": "markdown",
      "metadata": {
        "id": "view-in-github",
        "colab_type": "text"
      },
      "source": [
        "<a href=\"https://colab.research.google.com/github/Karan2109/Hotel-booking-analysis-EDA-project/blob/main/Function_and_Method_practice.ipynb\" target=\"_parent\"><img src=\"https://colab.research.google.com/assets/colab-badge.svg\" alt=\"Open In Colab\"/></a>"
      ]
    },
    {
      "cell_type": "markdown",
      "source": [
        "Exercise 1: Create a function in Python"
      ],
      "metadata": {
        "id": "xYVSzCBQcLsJ"
      }
    },
    {
      "cell_type": "code",
      "execution_count": 6,
      "metadata": {
        "id": "2byGbfHhZeeE",
        "colab": {
          "base_uri": "https://localhost:8080/"
        },
        "outputId": "276a76b4-2daf-4a40-f0df-8519febed389"
      },
      "outputs": [
        {
          "output_type": "stream",
          "name": "stdout",
          "text": [
            "Karan Singh 23\n"
          ]
        }
      ],
      "source": [
        "def demo(name, age):\n",
        "  #function name is demo\n",
        "\n",
        "  #print function\n",
        "  print(name, age)\n",
        "\n",
        "#calling function\n",
        "demo(\"Karan Singh\", 23)"
      ]
    },
    {
      "cell_type": "markdown",
      "source": [
        "Exercise 2: Create a function with variable length of arguments"
      ],
      "metadata": {
        "id": "8Ok73YmIdUEV"
      }
    },
    {
      "cell_type": "code",
      "source": [
        "def fun1(*args):\n",
        "  for i in args:\n",
        "    print(i)\n",
        "\n",
        "#Calling Function\n",
        "fun1(10,20,30,40,\"\\n\")\n",
        "fun1(10,20,30,'\\n')\n",
        "fun1(10,20)"
      ],
      "metadata": {
        "colab": {
          "base_uri": "https://localhost:8080/"
        },
        "id": "b4SHQfLRdYnq",
        "outputId": "a820c11f-1116-41f3-e454-6d36d118c546"
      },
      "execution_count": 17,
      "outputs": [
        {
          "output_type": "stream",
          "name": "stdout",
          "text": [
            "10\n",
            "20\n",
            "30\n",
            "40\n",
            "\n",
            "\n",
            "10\n",
            "20\n",
            "30\n",
            "\n",
            "\n",
            "10\n",
            "20\n"
          ]
        }
      ]
    },
    {
      "cell_type": "markdown",
      "source": [
        "Exercise 3: Return multiple values from a function"
      ],
      "metadata": {
        "id": "5CoM14VJfA9Z"
      }
    },
    {
      "cell_type": "code",
      "source": [
        "def calculation(a, b):\n",
        "    add = a+b\n",
        "    sub = a-b\n",
        "    return add,sub\n",
        "\n",
        "res = calculation(40, 10)\n",
        "print(res)"
      ],
      "metadata": {
        "colab": {
          "base_uri": "https://localhost:8080/"
        },
        "id": "47dq4KRefGEV",
        "outputId": "090b7357-1ddf-475f-bbad-a86290fa507d"
      },
      "execution_count": 20,
      "outputs": [
        {
          "output_type": "stream",
          "name": "stdout",
          "text": [
            "(50, 30)\n"
          ]
        }
      ]
    },
    {
      "cell_type": "markdown",
      "source": [
        "Exercise 4: Create a function with a default argument"
      ],
      "metadata": {
        "id": "xgziVY9Mf9a2"
      }
    },
    {
      "cell_type": "code",
      "source": [
        "def show_employee(name , salary = 9000):\n",
        "  print('name = ', name , 'salary = ' ,salary)\n",
        "\n",
        "# calling function\n",
        "show_employee(\"Karan\", salary = 12000)\n",
        "show_employee(\"Singh Sabh\")"
      ],
      "metadata": {
        "colab": {
          "base_uri": "https://localhost:8080/"
        },
        "id": "x9El-23Uf_VP",
        "outputId": "b0395755-a438-4ba7-ef1e-7da207a36f94"
      },
      "execution_count": 23,
      "outputs": [
        {
          "output_type": "stream",
          "name": "stdout",
          "text": [
            "name =  Karan salary =  12000\n",
            "name =  Singh Sabh salary =  9000\n"
          ]
        }
      ]
    },
    {
      "cell_type": "markdown",
      "source": [
        "Exercise 5: Create an inner function to calculate the addition in the following way"
      ],
      "metadata": {
        "id": "9uHXJujrhs8c"
      }
    },
    {
      "cell_type": "code",
      "source": [
        "#outer fun\n",
        "def cal1(a ,b):\n",
        "  square = a**2\n",
        "#inner fun\n",
        "  def cal2(a ,b):\n",
        "    return a + b\n",
        "  \n",
        "  add = cal2(a ,b)    \n",
        "  return 5 + add\n",
        "\n",
        "res = cal1(5, 10)\n",
        "print(res)"
      ],
      "metadata": {
        "colab": {
          "base_uri": "https://localhost:8080/"
        },
        "id": "aU1flw8thyIP",
        "outputId": "458d97ef-b855-4fd0-8f79-3c5a32ced93e"
      },
      "execution_count": 25,
      "outputs": [
        {
          "output_type": "stream",
          "name": "stdout",
          "text": [
            "20\n"
          ]
        }
      ]
    },
    {
      "cell_type": "markdown",
      "source": [
        "Exercise 6: Create a recursive function"
      ],
      "metadata": {
        "id": "88O_EtYDjgrO"
      }
    },
    {
      "cell_type": "code",
      "source": [
        "def rec_fun(num):\n",
        "  if num:\n",
        "    return num + rec_fun(num - 1)\n",
        "  else:\n",
        "    return 0\n",
        "\n",
        "res = rec_fun(10)\n",
        "print(res)\n"
      ],
      "metadata": {
        "colab": {
          "base_uri": "https://localhost:8080/"
        },
        "id": "Q8Pr0xd2h0H5",
        "outputId": "b19e4009-2443-4ee0-d315-a3be14e07dd5"
      },
      "execution_count": 30,
      "outputs": [
        {
          "output_type": "stream",
          "name": "stdout",
          "text": [
            "55\n"
          ]
        }
      ]
    },
    {
      "cell_type": "markdown",
      "source": [
        "Exercise 7: Assign a different name to function and call it through the new name"
      ],
      "metadata": {
        "id": "fGYo8_bAli6K"
      }
    },
    {
      "cell_type": "code",
      "source": [
        "def first_fun(name , age):\n",
        "  print(name , age)\n",
        "first_fun(\"Karan Singh\",23)\n",
        "\n",
        "#creating new function\n",
        "new_fun = first_fun\n",
        "\n",
        "new_fun(\"Singh Sabh\", 24)\n"
      ],
      "metadata": {
        "colab": {
          "base_uri": "https://localhost:8080/"
        },
        "id": "ZzTZaBnSlqjN",
        "outputId": "27d4ebac-1ee0-4113-d3c1-ee0e1a304e34"
      },
      "execution_count": 34,
      "outputs": [
        {
          "output_type": "stream",
          "name": "stdout",
          "text": [
            "Karan Singh 23\n",
            "Singh Sabh 24\n"
          ]
        }
      ]
    },
    {
      "cell_type": "markdown",
      "source": [
        "Exercise 8: Generate a Python list of all the even numbers between 4 to 30"
      ],
      "metadata": {
        "id": "gwrNsUUynBx_"
      }
    },
    {
      "cell_type": "code",
      "source": [
        "def even_no_list():\n",
        "  for i in range(4 , 30 , 2):\n",
        "      print(i)\n",
        "\n"
      ],
      "metadata": {
        "id": "wQm9sArynDj7"
      },
      "execution_count": 40,
      "outputs": []
    },
    {
      "cell_type": "code",
      "source": [
        "print(list(range(4, 30, 2)))"
      ],
      "metadata": {
        "colab": {
          "base_uri": "https://localhost:8080/"
        },
        "id": "rlsQqVMNoE5D",
        "outputId": "f59a50ef-66a0-459d-f1ce-c7ea37cf345c"
      },
      "execution_count": 37,
      "outputs": [
        {
          "output_type": "stream",
          "name": "stdout",
          "text": [
            "[4, 6, 8, 10, 12, 14, 16, 18, 20, 22, 24, 26, 28]\n"
          ]
        }
      ]
    },
    {
      "cell_type": "markdown",
      "source": [
        "Exercise 9: Find the largest item from a given list"
      ],
      "metadata": {
        "id": "sbAP5716oWWl"
      }
    },
    {
      "cell_type": "code",
      "source": [
        "x = [4, 6, 8, 24, 12, 2]\n",
        "print(max(x))\n",
        "print(min(x))"
      ],
      "metadata": {
        "colab": {
          "base_uri": "https://localhost:8080/"
        },
        "id": "R-qabBxHoa1T",
        "outputId": "2d6eb655-067e-4ffd-a77c-2737fbe25345"
      },
      "execution_count": 42,
      "outputs": [
        {
          "output_type": "stream",
          "name": "stdout",
          "text": [
            "24\n",
            "2\n"
          ]
        }
      ]
    },
    {
      "cell_type": "markdown",
      "source": [
        "## Function Program"
      ],
      "metadata": {
        "id": "x7O6wsr1ozCM"
      }
    },
    {
      "cell_type": "code",
      "source": [],
      "metadata": {
        "id": "KtNtHzN7qlQI"
      },
      "execution_count": null,
      "outputs": []
    }
  ]
}