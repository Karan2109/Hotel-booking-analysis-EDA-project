{
  "nbformat": 4,
  "nbformat_minor": 0,
  "metadata": {
    "colab": {
      "provenance": [],
      "authorship_tag": "ABX9TyOtyQ0gBlFuw0PbL9Z5wXdG",
      "include_colab_link": true
    },
    "kernelspec": {
      "name": "python3",
      "display_name": "Python 3"
    },
    "language_info": {
      "name": "python"
    }
  },
  "cells": [
    {
      "cell_type": "markdown",
      "metadata": {
        "id": "view-in-github",
        "colab_type": "text"
      },
      "source": [
        "<a href=\"https://colab.research.google.com/github/Karan2109/Hotel-booking-analysis-EDA-project/blob/main/Function_and_Method_practice.ipynb\" target=\"_parent\"><img src=\"https://colab.research.google.com/assets/colab-badge.svg\" alt=\"Open In Colab\"/></a>"
      ]
    },
    {
      "cell_type": "markdown",
      "source": [
        "Exercise 1: Create a function in Python"
      ],
      "metadata": {
        "id": "xYVSzCBQcLsJ"
      }
    },
    {
      "cell_type": "code",
      "execution_count": 6,
      "metadata": {
        "id": "2byGbfHhZeeE",
        "colab": {
          "base_uri": "https://localhost:8080/"
        },
        "outputId": "276a76b4-2daf-4a40-f0df-8519febed389"
      },
      "outputs": [
        {
          "output_type": "stream",
          "name": "stdout",
          "text": [
            "Karan Singh 23\n"
          ]
        }
      ],
      "source": [
        "def demo(name, age):\n",
        "  #function name is demo\n",
        "\n",
        "  #print function\n",
        "  print(name, age)\n",
        "\n",
        "#calling function\n",
        "demo(\"Karan Singh\", 23)"
      ]
    },
    {
      "cell_type": "markdown",
      "source": [
        "Exercise 2: Create a function with variable length of arguments"
      ],
      "metadata": {
        "id": "8Ok73YmIdUEV"
      }
    },
    {
      "cell_type": "code",
      "source": [
        "def fun1(*args):\n",
        "  for i in args:\n",
        "    print(i)\n",
        "\n",
        "#Calling Function\n",
        "fun1(10,20,30,40,\"\\n\")\n",
        "fun1(10,20,30,'\\n')\n",
        "fun1(10,20)"
      ],
      "metadata": {
        "colab": {
          "base_uri": "https://localhost:8080/"
        },
        "id": "b4SHQfLRdYnq",
        "outputId": "a820c11f-1116-41f3-e454-6d36d118c546"
      },
      "execution_count": 17,
      "outputs": [
        {
          "output_type": "stream",
          "name": "stdout",
          "text": [
            "10\n",
            "20\n",
            "30\n",
            "40\n",
            "\n",
            "\n",
            "10\n",
            "20\n",
            "30\n",
            "\n",
            "\n",
            "10\n",
            "20\n"
          ]
        }
      ]
    },
    {
      "cell_type": "markdown",
      "source": [
        "Exercise 3: Return multiple values from a function"
      ],
      "metadata": {
        "id": "5CoM14VJfA9Z"
      }
    },
    {
      "cell_type": "code",
      "source": [
        "def calculation(a, b):\n",
        "    add = a+b\n",
        "    sub = a-b\n",
        "    return add,sub\n",
        "\n",
        "res = calculation(40, 10)\n",
        "print(res)"
      ],
      "metadata": {
        "colab": {
          "base_uri": "https://localhost:8080/"
        },
        "id": "47dq4KRefGEV",
        "outputId": "090b7357-1ddf-475f-bbad-a86290fa507d"
      },
      "execution_count": 20,
      "outputs": [
        {
          "output_type": "stream",
          "name": "stdout",
          "text": [
            "(50, 30)\n"
          ]
        }
      ]
    },
    {
      "cell_type": "markdown",
      "source": [
        "Exercise 4: Create a function with a default argument"
      ],
      "metadata": {
        "id": "xgziVY9Mf9a2"
      }
    },
    {
      "cell_type": "code",
      "source": [
        "def show_employee(name , salary = 9000):\n",
        "  print('name = ', name , 'salary = ' ,salary)\n",
        "\n",
        "# calling function\n",
        "show_employee(\"Karan\", salary = 12000)\n",
        "show_employee(\"Singh Sabh\")"
      ],
      "metadata": {
        "colab": {
          "base_uri": "https://localhost:8080/"
        },
        "id": "x9El-23Uf_VP",
        "outputId": "b0395755-a438-4ba7-ef1e-7da207a36f94"
      },
      "execution_count": 23,
      "outputs": [
        {
          "output_type": "stream",
          "name": "stdout",
          "text": [
            "name =  Karan salary =  12000\n",
            "name =  Singh Sabh salary =  9000\n"
          ]
        }
      ]
    },
    {
      "cell_type": "markdown",
      "source": [
        "Exercise 5: Create an inner function to calculate the addition in the following way"
      ],
      "metadata": {
        "id": "9uHXJujrhs8c"
      }
    },
    {
      "cell_type": "code",
      "source": [
        "#outer fun\n",
        "def cal1(a ,b):\n",
        "  square = a**2\n",
        "#inner fun\n",
        "  def cal2(a ,b):\n",
        "    return a + b\n",
        "  \n",
        "  add = cal2(a ,b)    \n",
        "  return 5 + add\n",
        "\n",
        "res = cal1(5, 10)\n",
        "print(res)"
      ],
      "metadata": {
        "colab": {
          "base_uri": "https://localhost:8080/"
        },
        "id": "aU1flw8thyIP",
        "outputId": "458d97ef-b855-4fd0-8f79-3c5a32ced93e"
      },
      "execution_count": 25,
      "outputs": [
        {
          "output_type": "stream",
          "name": "stdout",
          "text": [
            "20\n"
          ]
        }
      ]
    },
    {
      "cell_type": "markdown",
      "source": [
        "Exercise 6: Create a recursive function"
      ],
      "metadata": {
        "id": "88O_EtYDjgrO"
      }
    },
    {
      "cell_type": "code",
      "source": [
        "def rec_fun(num):\n",
        "  if num:\n",
        "    return num + rec_fun(num - 1)\n",
        "  else:\n",
        "    return 0\n",
        "\n",
        "res = rec_fun(10)\n",
        "print(res)\n"
      ],
      "metadata": {
        "colab": {
          "base_uri": "https://localhost:8080/"
        },
        "id": "Q8Pr0xd2h0H5",
        "outputId": "b19e4009-2443-4ee0-d315-a3be14e07dd5"
      },
      "execution_count": 30,
      "outputs": [
        {
          "output_type": "stream",
          "name": "stdout",
          "text": [
            "55\n"
          ]
        }
      ]
    },
    {
      "cell_type": "markdown",
      "source": [
        "Exercise 7: Assign a different name to function and call it through the new name"
      ],
      "metadata": {
        "id": "fGYo8_bAli6K"
      }
    },
    {
      "cell_type": "code",
      "source": [
        "def first_fun(name , age):\n",
        "  print(name , age)\n",
        "first_fun(\"Karan Singh\",23)\n",
        "\n",
        "#creating new function\n",
        "new_fun = first_fun\n",
        "\n",
        "new_fun(\"Singh Sabh\", 24)\n"
      ],
      "metadata": {
        "colab": {
          "base_uri": "https://localhost:8080/"
        },
        "id": "ZzTZaBnSlqjN",
        "outputId": "27d4ebac-1ee0-4113-d3c1-ee0e1a304e34"
      },
      "execution_count": 34,
      "outputs": [
        {
          "output_type": "stream",
          "name": "stdout",
          "text": [
            "Karan Singh 23\n",
            "Singh Sabh 24\n"
          ]
        }
      ]
    },
    {
      "cell_type": "markdown",
      "source": [
        "Exercise 8: Generate a Python list of all the even numbers between 4 to 30"
      ],
      "metadata": {
        "id": "gwrNsUUynBx_"
      }
    },
    {
      "cell_type": "code",
      "source": [
        "def even_no_list():\n",
        "  for i in range(4 , 30 , 2):\n",
        "      print(i)\n",
        "\n"
      ],
      "metadata": {
        "id": "wQm9sArynDj7"
      },
      "execution_count": 40,
      "outputs": []
    },
    {
      "cell_type": "code",
      "source": [
        "print(list(range(4, 30, 2)))"
      ],
      "metadata": {
        "colab": {
          "base_uri": "https://localhost:8080/"
        },
        "id": "rlsQqVMNoE5D",
        "outputId": "f59a50ef-66a0-459d-f1ce-c7ea37cf345c"
      },
      "execution_count": 37,
      "outputs": [
        {
          "output_type": "stream",
          "name": "stdout",
          "text": [
            "[4, 6, 8, 10, 12, 14, 16, 18, 20, 22, 24, 26, 28]\n"
          ]
        }
      ]
    },
    {
      "cell_type": "markdown",
      "source": [
        "Exercise 9: Find the largest item from a given list"
      ],
      "metadata": {
        "id": "sbAP5716oWWl"
      }
    },
    {
      "cell_type": "code",
      "source": [
        "x = [4, 6, 8, 24, 12, 2]\n",
        "print(max(x))\n",
        "print(min(x))"
      ],
      "metadata": {
        "colab": {
          "base_uri": "https://localhost:8080/"
        },
        "id": "R-qabBxHoa1T",
        "outputId": "2d6eb655-067e-4ffd-a77c-2737fbe25345"
      },
      "execution_count": 42,
      "outputs": [
        {
          "output_type": "stream",
          "name": "stdout",
          "text": [
            "24\n",
            "2\n"
          ]
        }
      ]
    },
    {
      "cell_type": "markdown",
      "source": [
        "## Function Program"
      ],
      "metadata": {
        "id": "x7O6wsr1ozCM"
      }
    },
    {
      "cell_type": "markdown",
      "source": [
        "1. Write a Python function to find the Max of three numbers"
      ],
      "metadata": {
        "id": "UHtwHjjKq9Za"
      }
    },
    {
      "cell_type": "code",
      "source": [
        "def max_of_two_no(x , y):\n",
        "  if x > y:\n",
        "    return x\n",
        "  return y\n",
        "\n",
        "#max_of_two_no(5,10)\n",
        "\n",
        "def max_of_three_no(x, y, z):\n",
        "  return max_of_two_no(x , max_of_two_no(y, z))\n",
        "\n",
        "print(max_of_three_no(10, 20, 5))"
      ],
      "metadata": {
        "colab": {
          "base_uri": "https://localhost:8080/"
        },
        "id": "KtNtHzN7qlQI",
        "outputId": "a8c6fc09-da1f-4e03-bf82-2ebce516b113"
      },
      "execution_count": 4,
      "outputs": [
        {
          "output_type": "stream",
          "name": "stdout",
          "text": [
            "20\n"
          ]
        }
      ]
    },
    {
      "cell_type": "markdown",
      "source": [
        "2. Write a Python function to sum all the numbers in a list"
      ],
      "metadata": {
        "id": "GzD0WBQL-gPD"
      }
    },
    {
      "cell_type": "code",
      "source": [
        "def sum(Number):\n",
        "  total = 0\n",
        "  for i in Number:\n",
        "    total += i\n",
        "  return total\n",
        "\n",
        "print(sum((8, 2, 3, 0, 7)))\n",
        "\n",
        "    "
      ],
      "metadata": {
        "colab": {
          "base_uri": "https://localhost:8080/"
        },
        "id": "f1l069ku-iW2",
        "outputId": "9cf620ea-b52d-43c5-80f8-8a97c383840f"
      },
      "execution_count": 8,
      "outputs": [
        {
          "output_type": "stream",
          "name": "stdout",
          "text": [
            "20\n"
          ]
        }
      ]
    },
    {
      "cell_type": "markdown",
      "source": [
        "3. Write a Python function to multiply all the numbers in a list"
      ],
      "metadata": {
        "id": "wnYWXUcDHHOZ"
      }
    },
    {
      "cell_type": "code",
      "source": [
        "def mult(number):\n",
        "  total = 1\n",
        "  for i in number:\n",
        "    total *= i\n",
        "  return total\n",
        "\n",
        "print(mult((8, 2, 3, -1, 7)))"
      ],
      "metadata": {
        "colab": {
          "base_uri": "https://localhost:8080/"
        },
        "id": "-S7ZjQjyHhvl",
        "outputId": "0d1b6584-e4e9-44e7-c865-83660cd8f550"
      },
      "execution_count": 10,
      "outputs": [
        {
          "output_type": "stream",
          "name": "stdout",
          "text": [
            "-336\n"
          ]
        }
      ]
    },
    {
      "cell_type": "markdown",
      "source": [
        "4. Write a Python program to reverse a string."
      ],
      "metadata": {
        "id": "wITnxL6uIccs"
      }
    },
    {
      "cell_type": "code",
      "source": [
        "def rev_str(string):\n",
        "  return string[::-1]\n",
        "\n",
        "str = '1234abcd'\n",
        "print('Original String :', str)\n",
        "print('Reversed String :', rev_str(str))\n",
        "\n",
        "\n"
      ],
      "metadata": {
        "colab": {
          "base_uri": "https://localhost:8080/"
        },
        "id": "w5zkrnEHIloY",
        "outputId": "d87f4678-7582-46ee-e2a0-f12f4f0c36b2"
      },
      "execution_count": 13,
      "outputs": [
        {
          "output_type": "stream",
          "name": "stdout",
          "text": [
            "Original String : 1234abcd\n",
            "Reversed String : dcba4321\n"
          ]
        }
      ]
    },
    {
      "cell_type": "markdown",
      "source": [
        "5. Write a Python function to calculate the factorial of a number (a non-negative integer). The function accepts the number as an argument."
      ],
      "metadata": {
        "id": "RYwXdQzrLMl-"
      }
    },
    {
      "cell_type": "code",
      "source": [
        "def fact(num):\n",
        "  factorial = 1\n",
        "  if num < 0:\n",
        "    print(\"Sorry, factorial does not exist for negative numbers\")\n",
        "  elif num == 0:\n",
        "    print(\"The factorial of 0 is 1\")\n",
        "  else:\n",
        "    for i in range(1,num + 1):\n",
        "       factorial = factorial*i\n",
        "    return factorial\n",
        "\n",
        "print(fact(3))\n",
        "\n",
        "'''\n",
        "def factorial(n):\n",
        "    if n == 0:\n",
        "        return 1\n",
        "    else:\n",
        "        return n * factorial(n-1)\n",
        "n=int(input(\"Input a number to compute the factiorial : \"))\n",
        "print(factorial(n))\n",
        "\n",
        "'''"
      ],
      "metadata": {
        "colab": {
          "base_uri": "https://localhost:8080/"
        },
        "id": "I49BqP7xLT2h",
        "outputId": "738b4e7d-f176-46f0-86b3-668f25bf5e1b"
      },
      "execution_count": 17,
      "outputs": [
        {
          "output_type": "stream",
          "name": "stdout",
          "text": [
            "6\n"
          ]
        }
      ]
    },
    {
      "cell_type": "markdown",
      "source": [
        "6. Write a Python function to check whether a number falls in a given range"
      ],
      "metadata": {
        "id": "zPBGg0EeOg_P"
      }
    },
    {
      "cell_type": "code",
      "source": [
        "def test_range(n):\n",
        "  if n in range(1, 5):\n",
        "    print(\"Number exist between the range : \", n)\n",
        "  else:\n",
        "    print(\"Number is out of range\")\n",
        "\n",
        "test_range(4)\n",
        "  \n"
      ],
      "metadata": {
        "colab": {
          "base_uri": "https://localhost:8080/"
        },
        "id": "deqwFTI3Oh_w",
        "outputId": "1ba4865b-7b33-48bb-91a1-88aae0647401"
      },
      "execution_count": 20,
      "outputs": [
        {
          "output_type": "stream",
          "name": "stdout",
          "text": [
            "Number exist between the range :  4\n"
          ]
        }
      ]
    },
    {
      "cell_type": "markdown",
      "source": [
        "7. Write a Python function that accepts a string and calculate the number of upper case letters and lower case letters."
      ],
      "metadata": {
        "id": "Sz8eAgimP8gw"
      }
    },
    {
      "cell_type": "code",
      "source": [
        "def string_test(s):\n",
        "  d = {'UPPER_CASE' : 0, 'LOWER_CASE' : 0}\n",
        "  for c in s:\n",
        "    if c.isupper():\n",
        "      d['UPPER_CASE']+=1\n",
        "    elif c.islower():\n",
        "      d['LOWER_CASE']+=1\n",
        "    else:\n",
        "      pass\n",
        "  print(\"No of upper case char : \" , d['UPPER_CASE'])\n",
        "  print(\"No of lower case char : \" , d['LOWER_CASE'])\n",
        "\n",
        "# Calling Function\n",
        "string_test('KaraN SingH')"
      ],
      "metadata": {
        "colab": {
          "base_uri": "https://localhost:8080/"
        },
        "id": "6nXOt188QP9T",
        "outputId": "0508a6b5-6ae9-4fcc-c228-95b2206f0cea"
      },
      "execution_count": 5,
      "outputs": [
        {
          "output_type": "stream",
          "name": "stdout",
          "text": [
            "No of upper case char :  4\n",
            "No of lower case char :  6\n"
          ]
        }
      ]
    },
    {
      "cell_type": "markdown",
      "source": [
        "8. Write a Python function that takes a list and returns a new list with unique elements of the first list"
      ],
      "metadata": {
        "id": "as4ChT6sXfhm"
      }
    },
    {
      "cell_type": "code",
      "source": [
        "def unique_elem(n):\n",
        "  x = []\n",
        "  for m in n:\n",
        "    if m not in x:\n",
        "      x.append(m)\n",
        "  return x\n",
        "\n",
        "#Calling function\n",
        "print(unique_elem([1,2,3,3,3,3,4,5]))"
      ],
      "metadata": {
        "colab": {
          "base_uri": "https://localhost:8080/"
        },
        "id": "Q5G7DkJBXhAT",
        "outputId": "2dac8add-2fb6-45e1-a993-b847823f8831"
      },
      "execution_count": 7,
      "outputs": [
        {
          "output_type": "stream",
          "name": "stdout",
          "text": [
            "[1, 2, 3, 4, 5]\n"
          ]
        }
      ]
    },
    {
      "cell_type": "markdown",
      "source": [
        "9. Write a Python function that takes a number as a parameter and check the number is prime or not."
      ],
      "metadata": {
        "id": "7-x7OceBZjqd"
      }
    },
    {
      "cell_type": "code",
      "source": [
        "def test_prime(n):\n",
        "    if (n==1):\n",
        "        return False\n",
        "    elif (n==2):\n",
        "        return True;\n",
        "    else:\n",
        "        for x in range(2,n):\n",
        "            if(n % x==0):\n",
        "                return False\n",
        "        return True             \n",
        "print(test_prime(9))"
      ],
      "metadata": {
        "colab": {
          "base_uri": "https://localhost:8080/"
        },
        "id": "AjHHO8e2Zr-o",
        "outputId": "628a90d4-4e69-440e-e734-4e2d19419a96"
      },
      "execution_count": 21,
      "outputs": [
        {
          "output_type": "stream",
          "name": "stdout",
          "text": [
            "True\n"
          ]
        }
      ]
    },
    {
      "cell_type": "markdown",
      "source": [
        "10. Write a Python program to print the even numbers from a given list."
      ],
      "metadata": {
        "id": "ic8RKO1ydJuT"
      }
    },
    {
      "cell_type": "code",
      "source": [
        "def even_no(num):\n",
        "  u_list = []\n",
        "  for i in num:\n",
        "    if i%2 == 0:\n",
        "      u_list.append(i)\n",
        "  return u_list\n",
        "\n",
        "#calling function\n",
        "\n",
        "print(even_no([1, 2, 3, 4, 5, 6, 7, 8, 9]))"
      ],
      "metadata": {
        "colab": {
          "base_uri": "https://localhost:8080/"
        },
        "id": "c122wo-2dSN9",
        "outputId": "732598ac-e537-40e1-d481-dd97d62b7a16"
      },
      "execution_count": 28,
      "outputs": [
        {
          "output_type": "stream",
          "name": "stdout",
          "text": [
            "[2, 4, 6, 8]\n"
          ]
        }
      ]
    },
    {
      "cell_type": "markdown",
      "source": [
        "11. Write a Python function to check whether a number is perfect or not."
      ],
      "metadata": {
        "id": "XeUCrOKxgLfY"
      }
    },
    {
      "cell_type": "code",
      "source": [],
      "metadata": {
        "id": "siQqPixNgUwb"
      },
      "execution_count": null,
      "outputs": []
    }
  ]
}